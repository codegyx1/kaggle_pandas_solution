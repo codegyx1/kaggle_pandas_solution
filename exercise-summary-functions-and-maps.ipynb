{
 "cells": [
  {
   "cell_type": "markdown",
   "id": "4390e5f7",
   "metadata": {
    "papermill": {
     "duration": 0.005094,
     "end_time": "2025-07-02T03:55:54.193379",
     "exception": false,
     "start_time": "2025-07-02T03:55:54.188285",
     "status": "completed"
    },
    "tags": []
   },
   "source": [
    "**This notebook is an exercise in the [Pandas](https://www.kaggle.com/learn/pandas) course.  You can reference the tutorial at [this link](https://www.kaggle.com/residentmario/summary-functions-and-maps).**\n",
    "\n",
    "---\n"
   ]
  },
  {
   "cell_type": "markdown",
   "id": "6ad2922f",
   "metadata": {
    "papermill": {
     "duration": 0.00406,
     "end_time": "2025-07-02T03:55:54.201997",
     "exception": false,
     "start_time": "2025-07-02T03:55:54.197937",
     "status": "completed"
    },
    "tags": []
   },
   "source": [
    "# Introduction\n",
    "\n",
    "Now you are ready to get a deeper understanding of your data.\n",
    "\n",
    "Run the following cell to load your data and some utility functions (including code to check your answers)."
   ]
  },
  {
   "cell_type": "code",
   "execution_count": 1,
   "id": "17367e36",
   "metadata": {
    "execution": {
     "iopub.execute_input": "2025-07-02T03:55:54.211615Z",
     "iopub.status.busy": "2025-07-02T03:55:54.211270Z",
     "iopub.status.idle": "2025-07-02T03:56:01.411160Z",
     "shell.execute_reply": "2025-07-02T03:56:01.410263Z"
    },
    "papermill": {
     "duration": 7.206322,
     "end_time": "2025-07-02T03:56:01.412510",
     "exception": false,
     "start_time": "2025-07-02T03:55:54.206188",
     "status": "completed"
    },
    "tags": []
   },
   "outputs": [
    {
     "name": "stdout",
     "output_type": "stream",
     "text": [
      "Setup complete.\n"
     ]
    },
    {
     "name": "stderr",
     "output_type": "stream",
     "text": [
      "/usr/local/lib/python3.11/dist-packages/pandas/io/formats/format.py:1458: RuntimeWarning: invalid value encountered in greater\n",
      "  has_large_values = (abs_vals > 1e6).any()\n",
      "/usr/local/lib/python3.11/dist-packages/pandas/io/formats/format.py:1459: RuntimeWarning: invalid value encountered in less\n",
      "  has_small_values = ((abs_vals < 10 ** (-self.digits)) & (abs_vals > 0)).any()\n",
      "/usr/local/lib/python3.11/dist-packages/pandas/io/formats/format.py:1459: RuntimeWarning: invalid value encountered in greater\n",
      "  has_small_values = ((abs_vals < 10 ** (-self.digits)) & (abs_vals > 0)).any()\n"
     ]
    },
    {
     "data": {
      "text/html": [
       "<div>\n",
       "<style scoped>\n",
       "    .dataframe tbody tr th:only-of-type {\n",
       "        vertical-align: middle;\n",
       "    }\n",
       "\n",
       "    .dataframe tbody tr th {\n",
       "        vertical-align: top;\n",
       "    }\n",
       "\n",
       "    .dataframe thead th {\n",
       "        text-align: right;\n",
       "    }\n",
       "</style>\n",
       "<table border=\"1\" class=\"dataframe\">\n",
       "  <thead>\n",
       "    <tr style=\"text-align: right;\">\n",
       "      <th></th>\n",
       "      <th>country</th>\n",
       "      <th>description</th>\n",
       "      <th>designation</th>\n",
       "      <th>points</th>\n",
       "      <th>price</th>\n",
       "      <th>province</th>\n",
       "      <th>region_1</th>\n",
       "      <th>region_2</th>\n",
       "      <th>taster_name</th>\n",
       "      <th>taster_twitter_handle</th>\n",
       "      <th>title</th>\n",
       "      <th>variety</th>\n",
       "      <th>winery</th>\n",
       "    </tr>\n",
       "  </thead>\n",
       "  <tbody>\n",
       "    <tr>\n",
       "      <th>0</th>\n",
       "      <td>Italy</td>\n",
       "      <td>Aromas include tropical fruit, broom, brimston...</td>\n",
       "      <td>Vulkà Bianco</td>\n",
       "      <td>87</td>\n",
       "      <td>NaN</td>\n",
       "      <td>Sicily &amp; Sardinia</td>\n",
       "      <td>Etna</td>\n",
       "      <td>NaN</td>\n",
       "      <td>Kerin O’Keefe</td>\n",
       "      <td>@kerinokeefe</td>\n",
       "      <td>Nicosia 2013 Vulkà Bianco  (Etna)</td>\n",
       "      <td>White Blend</td>\n",
       "      <td>Nicosia</td>\n",
       "    </tr>\n",
       "    <tr>\n",
       "      <th>1</th>\n",
       "      <td>Portugal</td>\n",
       "      <td>This is ripe and fruity, a wine that is smooth...</td>\n",
       "      <td>Avidagos</td>\n",
       "      <td>87</td>\n",
       "      <td>15.0</td>\n",
       "      <td>Douro</td>\n",
       "      <td>NaN</td>\n",
       "      <td>NaN</td>\n",
       "      <td>Roger Voss</td>\n",
       "      <td>@vossroger</td>\n",
       "      <td>Quinta dos Avidagos 2011 Avidagos Red (Douro)</td>\n",
       "      <td>Portuguese Red</td>\n",
       "      <td>Quinta dos Avidagos</td>\n",
       "    </tr>\n",
       "    <tr>\n",
       "      <th>2</th>\n",
       "      <td>US</td>\n",
       "      <td>Tart and snappy, the flavors of lime flesh and...</td>\n",
       "      <td>NaN</td>\n",
       "      <td>87</td>\n",
       "      <td>14.0</td>\n",
       "      <td>Oregon</td>\n",
       "      <td>Willamette Valley</td>\n",
       "      <td>Willamette Valley</td>\n",
       "      <td>Paul Gregutt</td>\n",
       "      <td>@paulgwine</td>\n",
       "      <td>Rainstorm 2013 Pinot Gris (Willamette Valley)</td>\n",
       "      <td>Pinot Gris</td>\n",
       "      <td>Rainstorm</td>\n",
       "    </tr>\n",
       "    <tr>\n",
       "      <th>3</th>\n",
       "      <td>US</td>\n",
       "      <td>Pineapple rind, lemon pith and orange blossom ...</td>\n",
       "      <td>Reserve Late Harvest</td>\n",
       "      <td>87</td>\n",
       "      <td>13.0</td>\n",
       "      <td>Michigan</td>\n",
       "      <td>Lake Michigan Shore</td>\n",
       "      <td>NaN</td>\n",
       "      <td>Alexander Peartree</td>\n",
       "      <td>NaN</td>\n",
       "      <td>St. Julian 2013 Reserve Late Harvest Riesling ...</td>\n",
       "      <td>Riesling</td>\n",
       "      <td>St. Julian</td>\n",
       "    </tr>\n",
       "    <tr>\n",
       "      <th>4</th>\n",
       "      <td>US</td>\n",
       "      <td>Much like the regular bottling from 2012, this...</td>\n",
       "      <td>Vintner's Reserve Wild Child Block</td>\n",
       "      <td>87</td>\n",
       "      <td>65.0</td>\n",
       "      <td>Oregon</td>\n",
       "      <td>Willamette Valley</td>\n",
       "      <td>Willamette Valley</td>\n",
       "      <td>Paul Gregutt</td>\n",
       "      <td>@paulgwine</td>\n",
       "      <td>Sweet Cheeks 2012 Vintner's Reserve Wild Child...</td>\n",
       "      <td>Pinot Noir</td>\n",
       "      <td>Sweet Cheeks</td>\n",
       "    </tr>\n",
       "  </tbody>\n",
       "</table>\n",
       "</div>"
      ],
      "text/plain": [
       "    country                                        description  \\\n",
       "0     Italy  Aromas include tropical fruit, broom, brimston...   \n",
       "1  Portugal  This is ripe and fruity, a wine that is smooth...   \n",
       "2        US  Tart and snappy, the flavors of lime flesh and...   \n",
       "3        US  Pineapple rind, lemon pith and orange blossom ...   \n",
       "4        US  Much like the regular bottling from 2012, this...   \n",
       "\n",
       "                          designation  points  price           province  \\\n",
       "0                        Vulkà Bianco      87    NaN  Sicily & Sardinia   \n",
       "1                            Avidagos      87   15.0              Douro   \n",
       "2                                 NaN      87   14.0             Oregon   \n",
       "3                Reserve Late Harvest      87   13.0           Michigan   \n",
       "4  Vintner's Reserve Wild Child Block      87   65.0             Oregon   \n",
       "\n",
       "              region_1           region_2         taster_name  \\\n",
       "0                 Etna                NaN       Kerin O’Keefe   \n",
       "1                  NaN                NaN          Roger Voss   \n",
       "2    Willamette Valley  Willamette Valley        Paul Gregutt   \n",
       "3  Lake Michigan Shore                NaN  Alexander Peartree   \n",
       "4    Willamette Valley  Willamette Valley        Paul Gregutt   \n",
       "\n",
       "  taster_twitter_handle                                              title  \\\n",
       "0          @kerinokeefe                  Nicosia 2013 Vulkà Bianco  (Etna)   \n",
       "1            @vossroger      Quinta dos Avidagos 2011 Avidagos Red (Douro)   \n",
       "2           @paulgwine       Rainstorm 2013 Pinot Gris (Willamette Valley)   \n",
       "3                   NaN  St. Julian 2013 Reserve Late Harvest Riesling ...   \n",
       "4           @paulgwine   Sweet Cheeks 2012 Vintner's Reserve Wild Child...   \n",
       "\n",
       "          variety               winery  \n",
       "0     White Blend              Nicosia  \n",
       "1  Portuguese Red  Quinta dos Avidagos  \n",
       "2      Pinot Gris            Rainstorm  \n",
       "3        Riesling           St. Julian  \n",
       "4      Pinot Noir         Sweet Cheeks  "
      ]
     },
     "execution_count": 1,
     "metadata": {},
     "output_type": "execute_result"
    }
   ],
   "source": [
    "import pandas as pd\n",
    "pd.set_option(\"display.max_rows\", 5)\n",
    "reviews = pd.read_csv(\"../input/wine-reviews/winemag-data-130k-v2.csv\", index_col=0)\n",
    "\n",
    "from learntools.core import binder; binder.bind(globals())\n",
    "from learntools.pandas.summary_functions_and_maps import *\n",
    "print(\"Setup complete.\")\n",
    "\n",
    "reviews.head()"
   ]
  },
  {
   "cell_type": "markdown",
   "id": "311906f0",
   "metadata": {
    "papermill": {
     "duration": 0.004368,
     "end_time": "2025-07-02T03:56:01.421901",
     "exception": false,
     "start_time": "2025-07-02T03:56:01.417533",
     "status": "completed"
    },
    "tags": []
   },
   "source": [
    "# Exercises"
   ]
  },
  {
   "cell_type": "markdown",
   "id": "2113ba30",
   "metadata": {
    "papermill": {
     "duration": 0.004216,
     "end_time": "2025-07-02T03:56:01.430793",
     "exception": false,
     "start_time": "2025-07-02T03:56:01.426577",
     "status": "completed"
    },
    "tags": []
   },
   "source": [
    "## 1.\n",
    "\n",
    "What is the median of the `points` column in the `reviews` DataFrame?"
   ]
  },
  {
   "cell_type": "code",
   "execution_count": 2,
   "id": "33a17ebe",
   "metadata": {
    "execution": {
     "iopub.execute_input": "2025-07-02T03:56:01.441309Z",
     "iopub.status.busy": "2025-07-02T03:56:01.440536Z",
     "iopub.status.idle": "2025-07-02T03:56:01.448285Z",
     "shell.execute_reply": "2025-07-02T03:56:01.447472Z"
    },
    "papermill": {
     "duration": 0.01434,
     "end_time": "2025-07-02T03:56:01.449566",
     "exception": false,
     "start_time": "2025-07-02T03:56:01.435226",
     "status": "completed"
    },
    "tags": []
   },
   "outputs": [
    {
     "data": {
      "application/javascript": [
       "parent.postMessage({\"jupyterEvent\": \"custom.exercise_interaction\", \"data\": {\"outcomeType\": 1, \"valueTowardsCompletion\": 0.14285714285714285, \"interactionType\": 1, \"questionType\": 1, \"questionId\": \"1_MedianPoints\", \"learnToolsVersion\": \"0.3.5\", \"failureMessage\": \"\", \"exceptionClass\": \"\", \"trace\": \"\"}}, \"*\")"
      ],
      "text/plain": [
       "<IPython.core.display.Javascript object>"
      ]
     },
     "metadata": {},
     "output_type": "display_data"
    },
    {
     "data": {
      "text/markdown": [
       "<span style=\"color:#33cc33\">Correct</span>"
      ],
      "text/plain": [
       "Correct"
      ]
     },
     "metadata": {},
     "output_type": "display_data"
    }
   ],
   "source": [
    "median_points = reviews.points.median()\n",
    "\n",
    "# Check your answer\n",
    "q1.check()"
   ]
  },
  {
   "cell_type": "code",
   "execution_count": 3,
   "id": "f74f592d",
   "metadata": {
    "execution": {
     "iopub.execute_input": "2025-07-02T03:56:01.461593Z",
     "iopub.status.busy": "2025-07-02T03:56:01.460881Z",
     "iopub.status.idle": "2025-07-02T03:56:01.464539Z",
     "shell.execute_reply": "2025-07-02T03:56:01.463762Z"
    },
    "papermill": {
     "duration": 0.011561,
     "end_time": "2025-07-02T03:56:01.466116",
     "exception": false,
     "start_time": "2025-07-02T03:56:01.454555",
     "status": "completed"
    },
    "tags": []
   },
   "outputs": [],
   "source": [
    "#q1.hint()\n",
    "#q1.solution()"
   ]
  },
  {
   "cell_type": "markdown",
   "id": "0d65bde8",
   "metadata": {
    "papermill": {
     "duration": 0.004769,
     "end_time": "2025-07-02T03:56:01.476064",
     "exception": false,
     "start_time": "2025-07-02T03:56:01.471295",
     "status": "completed"
    },
    "tags": []
   },
   "source": [
    "## 2. \n",
    "What countries are represented in the dataset? (Your answer should not include any duplicates.)"
   ]
  },
  {
   "cell_type": "code",
   "execution_count": 4,
   "id": "484bb043",
   "metadata": {
    "execution": {
     "iopub.execute_input": "2025-07-02T03:56:01.487420Z",
     "iopub.status.busy": "2025-07-02T03:56:01.487124Z",
     "iopub.status.idle": "2025-07-02T03:56:01.498645Z",
     "shell.execute_reply": "2025-07-02T03:56:01.497882Z"
    },
    "papermill": {
     "duration": 0.018715,
     "end_time": "2025-07-02T03:56:01.500017",
     "exception": false,
     "start_time": "2025-07-02T03:56:01.481302",
     "status": "completed"
    },
    "tags": []
   },
   "outputs": [
    {
     "data": {
      "application/javascript": [
       "parent.postMessage({\"jupyterEvent\": \"custom.exercise_interaction\", \"data\": {\"outcomeType\": 1, \"valueTowardsCompletion\": 0.14285714285714285, \"interactionType\": 1, \"questionType\": 2, \"questionId\": \"2_UniqueCountries\", \"learnToolsVersion\": \"0.3.5\", \"failureMessage\": \"\", \"exceptionClass\": \"\", \"trace\": \"\"}}, \"*\")"
      ],
      "text/plain": [
       "<IPython.core.display.Javascript object>"
      ]
     },
     "metadata": {},
     "output_type": "display_data"
    },
    {
     "data": {
      "text/markdown": [
       "<span style=\"color:#33cc33\">Correct</span>"
      ],
      "text/plain": [
       "Correct"
      ]
     },
     "metadata": {},
     "output_type": "display_data"
    }
   ],
   "source": [
    "countries = reviews.country.unique()\n",
    "\n",
    "# Check your answer\n",
    "q2.check()"
   ]
  },
  {
   "cell_type": "code",
   "execution_count": 5,
   "id": "f47b609c",
   "metadata": {
    "execution": {
     "iopub.execute_input": "2025-07-02T03:56:01.511704Z",
     "iopub.status.busy": "2025-07-02T03:56:01.511029Z",
     "iopub.status.idle": "2025-07-02T03:56:01.514479Z",
     "shell.execute_reply": "2025-07-02T03:56:01.513831Z"
    },
    "papermill": {
     "duration": 0.010882,
     "end_time": "2025-07-02T03:56:01.516046",
     "exception": false,
     "start_time": "2025-07-02T03:56:01.505164",
     "status": "completed"
    },
    "tags": []
   },
   "outputs": [],
   "source": [
    "#q2.hint()\n",
    "#q2.solution()"
   ]
  },
  {
   "cell_type": "markdown",
   "id": "03b3f2b2",
   "metadata": {
    "papermill": {
     "duration": 0.004983,
     "end_time": "2025-07-02T03:56:01.526894",
     "exception": false,
     "start_time": "2025-07-02T03:56:01.521911",
     "status": "completed"
    },
    "tags": []
   },
   "source": [
    "## 3.\n",
    "How often does each country appear in the dataset? Create a Series `reviews_per_country` mapping countries to the count of reviews of wines from that country."
   ]
  },
  {
   "cell_type": "code",
   "execution_count": 6,
   "id": "0f698951",
   "metadata": {
    "execution": {
     "iopub.execute_input": "2025-07-02T03:56:01.538428Z",
     "iopub.status.busy": "2025-07-02T03:56:01.537922Z",
     "iopub.status.idle": "2025-07-02T03:56:01.556780Z",
     "shell.execute_reply": "2025-07-02T03:56:01.556057Z"
    },
    "papermill": {
     "duration": 0.026061,
     "end_time": "2025-07-02T03:56:01.558071",
     "exception": false,
     "start_time": "2025-07-02T03:56:01.532010",
     "status": "completed"
    },
    "tags": []
   },
   "outputs": [
    {
     "data": {
      "application/javascript": [
       "parent.postMessage({\"jupyterEvent\": \"custom.exercise_interaction\", \"data\": {\"outcomeType\": 1, \"valueTowardsCompletion\": 0.14285714285714285, \"interactionType\": 1, \"questionType\": 1, \"questionId\": \"3_ReviewsPerCountry\", \"learnToolsVersion\": \"0.3.5\", \"failureMessage\": \"\", \"exceptionClass\": \"\", \"trace\": \"\"}}, \"*\")"
      ],
      "text/plain": [
       "<IPython.core.display.Javascript object>"
      ]
     },
     "metadata": {},
     "output_type": "display_data"
    },
    {
     "data": {
      "text/markdown": [
       "<span style=\"color:#33cc33\">Correct</span>"
      ],
      "text/plain": [
       "Correct"
      ]
     },
     "metadata": {},
     "output_type": "display_data"
    }
   ],
   "source": [
    "reviews_per_country = reviews.country.value_counts()\n",
    "\n",
    "\n",
    "# Check your answer\n",
    "q3.check()"
   ]
  },
  {
   "cell_type": "code",
   "execution_count": 7,
   "id": "669e0996",
   "metadata": {
    "execution": {
     "iopub.execute_input": "2025-07-02T03:56:01.570123Z",
     "iopub.status.busy": "2025-07-02T03:56:01.569844Z",
     "iopub.status.idle": "2025-07-02T03:56:01.573578Z",
     "shell.execute_reply": "2025-07-02T03:56:01.572904Z"
    },
    "papermill": {
     "duration": 0.011387,
     "end_time": "2025-07-02T03:56:01.574823",
     "exception": false,
     "start_time": "2025-07-02T03:56:01.563436",
     "status": "completed"
    },
    "tags": []
   },
   "outputs": [],
   "source": [
    "#q3.hint()\n",
    "#q3.solution()"
   ]
  },
  {
   "cell_type": "markdown",
   "id": "da0484c4",
   "metadata": {
    "papermill": {
     "duration": 0.00485,
     "end_time": "2025-07-02T03:56:01.584939",
     "exception": false,
     "start_time": "2025-07-02T03:56:01.580089",
     "status": "completed"
    },
    "tags": []
   },
   "source": [
    "## 4.\n",
    "Create variable `centered_price` containing a version of the `price` column with the mean price subtracted.\n",
    "\n",
    "(Note: this 'centering' transformation is a common preprocessing step before applying various machine learning algorithms.) "
   ]
  },
  {
   "cell_type": "code",
   "execution_count": 8,
   "id": "c73e9671",
   "metadata": {
    "execution": {
     "iopub.execute_input": "2025-07-02T03:56:01.596374Z",
     "iopub.status.busy": "2025-07-02T03:56:01.595795Z",
     "iopub.status.idle": "2025-07-02T03:56:01.658883Z",
     "shell.execute_reply": "2025-07-02T03:56:01.657982Z"
    },
    "papermill": {
     "duration": 0.070214,
     "end_time": "2025-07-02T03:56:01.660213",
     "exception": false,
     "start_time": "2025-07-02T03:56:01.589999",
     "status": "completed"
    },
    "tags": []
   },
   "outputs": [
    {
     "data": {
      "application/javascript": [
       "parent.postMessage({\"jupyterEvent\": \"custom.exercise_interaction\", \"data\": {\"outcomeType\": 1, \"valueTowardsCompletion\": 0.14285714285714285, \"interactionType\": 1, \"questionType\": 1, \"questionId\": \"4_CenteredPrice\", \"learnToolsVersion\": \"0.3.5\", \"failureMessage\": \"\", \"exceptionClass\": \"\", \"trace\": \"\"}}, \"*\")"
      ],
      "text/plain": [
       "<IPython.core.display.Javascript object>"
      ]
     },
     "metadata": {},
     "output_type": "display_data"
    },
    {
     "data": {
      "text/markdown": [
       "<span style=\"color:#33cc33\">Correct</span>"
      ],
      "text/plain": [
       "Correct"
      ]
     },
     "metadata": {},
     "output_type": "display_data"
    }
   ],
   "source": [
    "mean=reviews.price.mean()\n",
    "centered_price = reviews.price.map(lambda p: p- mean)\n",
    "\n",
    "# Check your answer\n",
    "q4.check()"
   ]
  },
  {
   "cell_type": "code",
   "execution_count": 9,
   "id": "a99a7774",
   "metadata": {
    "execution": {
     "iopub.execute_input": "2025-07-02T03:56:01.671694Z",
     "iopub.status.busy": "2025-07-02T03:56:01.671423Z",
     "iopub.status.idle": "2025-07-02T03:56:01.674703Z",
     "shell.execute_reply": "2025-07-02T03:56:01.674076Z"
    },
    "papermill": {
     "duration": 0.010475,
     "end_time": "2025-07-02T03:56:01.675979",
     "exception": false,
     "start_time": "2025-07-02T03:56:01.665504",
     "status": "completed"
    },
    "tags": []
   },
   "outputs": [],
   "source": [
    "#q4.hint()\n",
    "#q4.solution()"
   ]
  },
  {
   "cell_type": "markdown",
   "id": "b8e2201b",
   "metadata": {
    "papermill": {
     "duration": 0.004985,
     "end_time": "2025-07-02T03:56:01.686147",
     "exception": false,
     "start_time": "2025-07-02T03:56:01.681162",
     "status": "completed"
    },
    "tags": []
   },
   "source": [
    "## 5.\n",
    "I'm an economical wine buyer. Which wine is the \"best bargain\"? Create a variable `bargain_wine` with the title of the wine with the highest points-to-price ratio in the dataset."
   ]
  },
  {
   "cell_type": "code",
   "execution_count": 10,
   "id": "b7d2ca7a",
   "metadata": {
    "execution": {
     "iopub.execute_input": "2025-07-02T03:56:01.698186Z",
     "iopub.status.busy": "2025-07-02T03:56:01.697937Z",
     "iopub.status.idle": "2025-07-02T03:56:01.717472Z",
     "shell.execute_reply": "2025-07-02T03:56:01.716769Z"
    },
    "papermill": {
     "duration": 0.026873,
     "end_time": "2025-07-02T03:56:01.718837",
     "exception": false,
     "start_time": "2025-07-02T03:56:01.691964",
     "status": "completed"
    },
    "tags": []
   },
   "outputs": [
    {
     "data": {
      "application/javascript": [
       "parent.postMessage({\"jupyterEvent\": \"custom.exercise_interaction\", \"data\": {\"outcomeType\": 1, \"valueTowardsCompletion\": 0.14285714285714285, \"interactionType\": 1, \"questionType\": 2, \"questionId\": \"5_BargainWine\", \"learnToolsVersion\": \"0.3.5\", \"failureMessage\": \"\", \"exceptionClass\": \"\", \"trace\": \"\"}}, \"*\")"
      ],
      "text/plain": [
       "<IPython.core.display.Javascript object>"
      ]
     },
     "metadata": {},
     "output_type": "display_data"
    },
    {
     "data": {
      "text/markdown": [
       "<span style=\"color:#33cc33\">Correct</span>"
      ],
      "text/plain": [
       "Correct"
      ]
     },
     "metadata": {},
     "output_type": "display_data"
    },
    {
     "data": {
      "text/plain": [
       "'Bandit NV Merlot (California)'"
      ]
     },
     "execution_count": 10,
     "metadata": {},
     "output_type": "execute_result"
    }
   ],
   "source": [
    "bargain_idx = (reviews.points / reviews.price).idxmax()\n",
    "bargain_wine = reviews.loc[bargain_idx, 'title']\n",
    "\n",
    "# Check your answer\n",
    "q5.check()\n",
    "bargain_wine"
   ]
  },
  {
   "cell_type": "code",
   "execution_count": 11,
   "id": "90156470",
   "metadata": {
    "execution": {
     "iopub.execute_input": "2025-07-02T03:56:01.731528Z",
     "iopub.status.busy": "2025-07-02T03:56:01.731005Z",
     "iopub.status.idle": "2025-07-02T03:56:01.734369Z",
     "shell.execute_reply": "2025-07-02T03:56:01.733642Z"
    },
    "papermill": {
     "duration": 0.010887,
     "end_time": "2025-07-02T03:56:01.735720",
     "exception": false,
     "start_time": "2025-07-02T03:56:01.724833",
     "status": "completed"
    },
    "tags": []
   },
   "outputs": [],
   "source": [
    "#q5.hint()\n",
    "#q5.solution()"
   ]
  },
  {
   "cell_type": "markdown",
   "id": "bf89e205",
   "metadata": {
    "papermill": {
     "duration": 0.005297,
     "end_time": "2025-07-02T03:56:01.746544",
     "exception": false,
     "start_time": "2025-07-02T03:56:01.741247",
     "status": "completed"
    },
    "tags": []
   },
   "source": [
    "## 6.\n",
    "There are only so many words you can use when describing a bottle of wine. Is a wine more likely to be \"tropical\" or \"fruity\"? Create a Series `descriptor_counts` counting how many times each of these two words appears in the `description` column in the dataset. (For simplicity, let's ignore the capitalized versions of these words.)"
   ]
  },
  {
   "cell_type": "code",
   "execution_count": 12,
   "id": "0876178b",
   "metadata": {
    "execution": {
     "iopub.execute_input": "2025-07-02T03:56:01.759045Z",
     "iopub.status.busy": "2025-07-02T03:56:01.758219Z",
     "iopub.status.idle": "2025-07-02T03:56:01.880490Z",
     "shell.execute_reply": "2025-07-02T03:56:01.879556Z"
    },
    "papermill": {
     "duration": 0.129918,
     "end_time": "2025-07-02T03:56:01.881857",
     "exception": false,
     "start_time": "2025-07-02T03:56:01.751939",
     "status": "completed"
    },
    "tags": []
   },
   "outputs": [
    {
     "data": {
      "application/javascript": [
       "parent.postMessage({\"jupyterEvent\": \"custom.exercise_interaction\", \"data\": {\"outcomeType\": 1, \"valueTowardsCompletion\": 0.14285714285714285, \"interactionType\": 1, \"questionType\": 1, \"questionId\": \"6_DescriptorCounts\", \"learnToolsVersion\": \"0.3.5\", \"failureMessage\": \"\", \"exceptionClass\": \"\", \"trace\": \"\"}}, \"*\")"
      ],
      "text/plain": [
       "<IPython.core.display.Javascript object>"
      ]
     },
     "metadata": {},
     "output_type": "display_data"
    },
    {
     "data": {
      "text/markdown": [
       "<span style=\"color:#33cc33\">Correct</span>"
      ],
      "text/plain": [
       "Correct"
      ]
     },
     "metadata": {},
     "output_type": "display_data"
    }
   ],
   "source": [
    "tro = reviews.description.map(lambda desc:\"tropical\"in desc).sum()\n",
    "fru = reviews.description.map(lambda desc : \"fruity\"in desc).sum()\n",
    "descriptor_counts = pd.Series([tro,fru], index = [\"tropical\", \"fruity\"])\n",
    "\n",
    "# Check your answer\n",
    "q6.check()"
   ]
  },
  {
   "cell_type": "code",
   "execution_count": 13,
   "id": "438261ee",
   "metadata": {
    "execution": {
     "iopub.execute_input": "2025-07-02T03:56:01.894615Z",
     "iopub.status.busy": "2025-07-02T03:56:01.894279Z",
     "iopub.status.idle": "2025-07-02T03:56:01.898021Z",
     "shell.execute_reply": "2025-07-02T03:56:01.897355Z"
    },
    "papermill": {
     "duration": 0.011735,
     "end_time": "2025-07-02T03:56:01.899389",
     "exception": false,
     "start_time": "2025-07-02T03:56:01.887654",
     "status": "completed"
    },
    "tags": []
   },
   "outputs": [],
   "source": [
    "#q6.hint()\n",
    "#q6.solution()"
   ]
  },
  {
   "cell_type": "markdown",
   "id": "22bbb943",
   "metadata": {
    "papermill": {
     "duration": 0.005618,
     "end_time": "2025-07-02T03:56:01.910808",
     "exception": false,
     "start_time": "2025-07-02T03:56:01.905190",
     "status": "completed"
    },
    "tags": []
   },
   "source": [
    "## 7.\n",
    "We'd like to host these wine reviews on our website, but a rating system ranging from 80 to 100 points is too hard to understand - we'd like to translate them into simple star ratings. A score of 95 or higher counts as 3 stars, a score of at least 85 but less than 95 is 2 stars. Any other score is 1 star.\n",
    "\n",
    "Also, the Canadian Vintners Association bought a lot of ads on the site, so any wines from Canada should automatically get 3 stars, regardless of points.\n",
    "\n",
    "Create a series `star_ratings` with the number of stars corresponding to each review in the dataset."
   ]
  },
  {
   "cell_type": "code",
   "execution_count": 14,
   "id": "ea98f6ad",
   "metadata": {
    "execution": {
     "iopub.execute_input": "2025-07-02T03:56:01.924287Z",
     "iopub.status.busy": "2025-07-02T03:56:01.923647Z",
     "iopub.status.idle": "2025-07-02T03:56:04.279485Z",
     "shell.execute_reply": "2025-07-02T03:56:04.278689Z"
    },
    "papermill": {
     "duration": 2.363893,
     "end_time": "2025-07-02T03:56:04.280794",
     "exception": false,
     "start_time": "2025-07-02T03:56:01.916901",
     "status": "completed"
    },
    "tags": []
   },
   "outputs": [
    {
     "data": {
      "application/javascript": [
       "parent.postMessage({\"jupyterEvent\": \"custom.exercise_interaction\", \"data\": {\"outcomeType\": 1, \"valueTowardsCompletion\": 0.14285714285714285, \"interactionType\": 1, \"questionType\": 1, \"questionId\": \"7_StarRatings\", \"learnToolsVersion\": \"0.3.5\", \"failureMessage\": \"\", \"exceptionClass\": \"\", \"trace\": \"\"}}, \"*\")"
      ],
      "text/plain": [
       "<IPython.core.display.Javascript object>"
      ]
     },
     "metadata": {},
     "output_type": "display_data"
    },
    {
     "data": {
      "text/markdown": [
       "<span style=\"color:#33cc33\">Correct</span>"
      ],
      "text/plain": [
       "Correct"
      ]
     },
     "metadata": {},
     "output_type": "display_data"
    }
   ],
   "source": [
    " def stars(row):\n",
    "    if row.country == 'Canada':\n",
    "        return 3\n",
    "    elif row.points >= 95:\n",
    "        return 3\n",
    "    elif row.points >= 85:\n",
    "        return 2\n",
    "    else:\n",
    "        return 1\n",
    "star_ratings = reviews.apply(stars, axis='columns')\n",
    "\n",
    "# Check your answer\n",
    "q7.check()"
   ]
  },
  {
   "cell_type": "code",
   "execution_count": 15,
   "id": "df34c051",
   "metadata": {
    "execution": {
     "iopub.execute_input": "2025-07-02T03:56:04.293935Z",
     "iopub.status.busy": "2025-07-02T03:56:04.293353Z",
     "iopub.status.idle": "2025-07-02T03:56:04.296581Z",
     "shell.execute_reply": "2025-07-02T03:56:04.295945Z"
    },
    "papermill": {
     "duration": 0.01102,
     "end_time": "2025-07-02T03:56:04.297823",
     "exception": false,
     "start_time": "2025-07-02T03:56:04.286803",
     "status": "completed"
    },
    "tags": []
   },
   "outputs": [],
   "source": [
    "#q7.hint()\n",
    "#q7.solution()"
   ]
  },
  {
   "cell_type": "markdown",
   "id": "337a409b",
   "metadata": {
    "papermill": {
     "duration": 0.005658,
     "end_time": "2025-07-02T03:56:04.309399",
     "exception": false,
     "start_time": "2025-07-02T03:56:04.303741",
     "status": "completed"
    },
    "tags": []
   },
   "source": [
    "# Keep going\n",
    "Continue to **[grouping and sorting](https://www.kaggle.com/residentmario/grouping-and-sorting)**."
   ]
  },
  {
   "cell_type": "markdown",
   "id": "8d255d14",
   "metadata": {
    "papermill": {
     "duration": 0.005609,
     "end_time": "2025-07-02T03:56:04.320861",
     "exception": false,
     "start_time": "2025-07-02T03:56:04.315252",
     "status": "completed"
    },
    "tags": []
   },
   "source": [
    "---\n",
    "\n",
    "\n",
    "\n",
    "\n",
    "*Have questions or comments? Visit the [course discussion forum](https://www.kaggle.com/learn/pandas/discussion) to chat with other learners.*"
   ]
  }
 ],
 "metadata": {
  "kaggle": {
   "accelerator": "none",
   "dataSources": [
    {
     "datasetId": 655,
     "sourceId": 1252,
     "sourceType": "datasetVersion"
    },
    {
     "datasetId": 2321,
     "sourceId": 3919,
     "sourceType": "datasetVersion"
    },
    {
     "datasetId": 2894,
     "sourceId": 4877,
     "sourceType": "datasetVersion"
    },
    {
     "datasetId": 3491,
     "sourceId": 5624,
     "sourceType": "datasetVersion"
    },
    {
     "datasetId": 1442,
     "sourceId": 8172,
     "sourceType": "datasetVersion"
    },
    {
     "datasetId": 9366,
     "sourceId": 13206,
     "sourceType": "datasetVersion"
    },
    {
     "datasetId": 179555,
     "sourceId": 403916,
     "sourceType": "datasetVersion"
    },
    {
     "datasetId": 4549,
     "sourceId": 466349,
     "sourceType": "datasetVersion"
    },
    {
     "datasetId": 2478,
     "sourceId": 1151655,
     "sourceType": "datasetVersion"
    },
    {
     "datasetId": 10128,
     "sourceId": 5438389,
     "sourceType": "datasetVersion"
    }
   ],
   "isGpuEnabled": false,
   "isInternetEnabled": false,
   "language": "python",
   "sourceType": "notebook"
  },
  "kernelspec": {
   "display_name": "Python 3",
   "language": "python",
   "name": "python3"
  },
  "language_info": {
   "codemirror_mode": {
    "name": "ipython",
    "version": 3
   },
   "file_extension": ".py",
   "mimetype": "text/x-python",
   "name": "python",
   "nbconvert_exporter": "python",
   "pygments_lexer": "ipython3",
   "version": "3.11.11"
  },
  "papermill": {
   "default_parameters": {},
   "duration": 15.149891,
   "end_time": "2025-07-02T03:56:04.845578",
   "environment_variables": {},
   "exception": null,
   "input_path": "__notebook__.ipynb",
   "output_path": "__notebook__.ipynb",
   "parameters": {},
   "start_time": "2025-07-02T03:55:49.695687",
   "version": "2.6.0"
  }
 },
 "nbformat": 4,
 "nbformat_minor": 5
}
